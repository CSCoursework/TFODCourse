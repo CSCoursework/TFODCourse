{
 "cells": [
  {
   "cell_type": "markdown",
   "metadata": {},
   "source": [
    "# 1. Import Dependencies"
   ]
  },
  {
   "cell_type": "code",
   "execution_count": 4,
   "metadata": {},
   "outputs": [
    {
     "name": "stdout",
     "output_type": "stream",
     "text": [
      "Collecting opencv-python\n",
      "  Using cached opencv_python-4.7.0.68-cp37-abi3-win_amd64.whl (38.2 MB)\n",
      "Requirement already satisfied: numpy>=1.19.3 in c:\\users\\manas\\onedrive\\documents\\hacknotts\\hackathon\\tfod\\tfod\\lib\\site-packages (from opencv-python) (1.24.2)\n",
      "Installing collected packages: opencv-python\n",
      "Successfully installed opencv-python-4.7.0.68\n"
     ]
    }
   ],
   "source": [
    "!pip install opencv-python"
   ]
  },
  {
   "cell_type": "code",
   "execution_count": 5,
   "metadata": {},
   "outputs": [],
   "source": [
    "# Import opencv\n",
    "import cv2 \n",
    "\n",
    "# Import uuid\n",
    "import uuid\n",
    "\n",
    "# Import Operating System\n",
    "import os\n",
    "\n",
    "# Import time\n",
    "import time"
   ]
  },
  {
   "cell_type": "markdown",
   "metadata": {},
   "source": [
    "# 2. Define Images to Collect"
   ]
  },
  {
   "cell_type": "code",
   "execution_count": 8,
   "metadata": {},
   "outputs": [],
   "source": [
    "labels = ['egg', 'wheat', 'milk', 'chicken']\n",
    "number_imgs = 10"
   ]
  },
  {
   "cell_type": "markdown",
   "metadata": {},
   "source": [
    "# 3. Setup Folders "
   ]
  },
  {
   "cell_type": "code",
   "execution_count": 9,
   "metadata": {},
   "outputs": [],
   "source": [
    "IMAGES_PATH = os.path.join('Tensorflow', 'workspace', 'images', 'collectedimages')"
   ]
  },
  {
   "cell_type": "code",
   "execution_count": 10,
   "metadata": {},
   "outputs": [],
   "source": [
    "if not os.path.exists(IMAGES_PATH):\n",
    "    if os.name == 'posix':\n",
    "        !mkdir -p {IMAGES_PATH}\n",
    "    if os.name == 'nt':\n",
    "         !mkdir {IMAGES_PATH}\n",
    "for label in labels:\n",
    "    path = os.path.join(IMAGES_PATH, label)\n",
    "    if not os.path.exists(path):\n",
    "        !mkdir {path}"
   ]
  },
  {
   "cell_type": "markdown",
   "metadata": {},
   "source": [
    "# 4. Capture Images"
   ]
  },
  {
   "cell_type": "code",
   "execution_count": 12,
   "metadata": {},
   "outputs": [
    {
     "name": "stdout",
     "output_type": "stream",
     "text": [
      "Collecting images for egg\n",
      "Collecting image 0\n",
      "Collecting image 1\n",
      "Collecting image 2\n",
      "Collecting image 3\n",
      "Collecting image 4\n",
      "Collecting image 5\n",
      "Collecting image 6\n",
      "Collecting image 7\n",
      "Collecting image 8\n",
      "Collecting image 9\n",
      "Collecting images for wheat\n",
      "Collecting image 0\n",
      "Collecting image 1\n",
      "Collecting image 2\n",
      "Collecting image 3\n",
      "Collecting image 4\n",
      "Collecting image 5\n",
      "Collecting image 6\n",
      "Collecting image 7\n",
      "Collecting image 8\n",
      "Collecting image 9\n",
      "Collecting images for milk\n",
      "Collecting image 0\n",
      "Collecting image 1\n",
      "Collecting image 2\n",
      "Collecting image 3\n",
      "Collecting image 4\n",
      "Collecting image 5\n",
      "Collecting image 6\n",
      "Collecting image 7\n",
      "Collecting image 8\n",
      "Collecting image 9\n",
      "Collecting images for chicken\n",
      "Collecting image 0\n",
      "Collecting image 1\n",
      "Collecting image 2\n",
      "Collecting image 3\n",
      "Collecting image 4\n",
      "Collecting image 5\n",
      "Collecting image 6\n",
      "Collecting image 7\n",
      "Collecting image 8\n",
      "Collecting image 9\n"
     ]
    }
   ],
   "source": [
    "for label in labels:\n",
    "    cap = cv2.VideoCapture(0) #connects to webcam or capture device\n",
    "    print('Collecting images for {}'.format(label))\n",
    "    time.sleep(10)\n",
    "    for imgnum in range(number_imgs):\n",
    "        print('Collecting image {}'.format(imgnum))\n",
    "        ret, frame = cap.read()\n",
    "        imgname = os.path.join(IMAGES_PATH,label,label+'.'+'{}.jpg'.format(str(uuid.uuid1())))\n",
    "        cv2.imwrite(imgname, frame)\n",
    "        cv2.imshow('frame', frame)\n",
    "        time.sleep(5)\n",
    "\n",
    "        if cv2.waitKey(1) & 0xFF == ord('q'):\n",
    "            break\n",
    "cap.release()\n",
    "cv2.destroyAllWindows()"
   ]
  },
  {
   "cell_type": "markdown",
   "metadata": {},
   "source": [
    "# 5. Image Labelling"
   ]
  },
  {
   "cell_type": "code",
   "execution_count": 13,
   "metadata": {},
   "outputs": [
    {
     "name": "stdout",
     "output_type": "stream",
     "text": [
      "Collecting pyqt5\n",
      "  Downloading PyQt5-5.15.9-cp37-abi3-win_amd64.whl (6.8 MB)\n",
      "     ---------------------------------------- 0.0/6.8 MB ? eta -:--:--\n",
      "     -- ------------------------------------- 0.4/6.8 MB 12.2 MB/s eta 0:00:01\n",
      "     --- ------------------------------------ 0.7/6.8 MB 8.5 MB/s eta 0:00:01\n",
      "     ----- ---------------------------------- 1.0/6.8 MB 7.7 MB/s eta 0:00:01\n",
      "     ------- -------------------------------- 1.2/6.8 MB 7.1 MB/s eta 0:00:01\n",
      "     -------- ------------------------------- 1.5/6.8 MB 6.8 MB/s eta 0:00:01\n",
      "     ----------- ---------------------------- 1.9/6.8 MB 6.7 MB/s eta 0:00:01\n",
      "     -------------- ------------------------- 2.5/6.8 MB 7.5 MB/s eta 0:00:01\n",
      "     ----------------- ---------------------- 3.1/6.8 MB 8.5 MB/s eta 0:00:01\n",
      "     --------------------- ------------------ 3.6/6.8 MB 8.8 MB/s eta 0:00:01\n",
      "     ------------------------ --------------- 4.2/6.8 MB 9.2 MB/s eta 0:00:01\n",
      "     --------------------------- ------------ 4.7/6.8 MB 9.4 MB/s eta 0:00:01\n",
      "     ------------------------------- -------- 5.3/6.8 MB 9.7 MB/s eta 0:00:01\n",
      "     ---------------------------------- ----- 5.8/6.8 MB 9.8 MB/s eta 0:00:01\n",
      "     -------------------------------------- - 6.5/6.8 MB 10.1 MB/s eta 0:00:01\n",
      "     ---------------------------------------  6.8/6.8 MB 9.9 MB/s eta 0:00:01\n",
      "     ---------------------------------------- 6.8/6.8 MB 9.7 MB/s eta 0:00:00\n",
      "Collecting lxml\n",
      "  Downloading lxml-4.9.2-cp39-cp39-win_amd64.whl (3.9 MB)\n",
      "     ---------------------------------------- 0.0/3.9 MB ? eta -:--:--\n",
      "     ---- ----------------------------------- 0.4/3.9 MB 12.9 MB/s eta 0:00:01\n",
      "     ---------- ----------------------------- 1.0/3.9 MB 12.9 MB/s eta 0:00:01\n",
      "     ---------------- ----------------------- 1.6/3.9 MB 12.6 MB/s eta 0:00:01\n",
      "     --------------------- ------------------ 2.1/3.9 MB 12.1 MB/s eta 0:00:01\n",
      "     --------------------------- ------------ 2.7/3.9 MB 12.2 MB/s eta 0:00:01\n",
      "     -------------------------------- ------- 3.1/3.9 MB 11.8 MB/s eta 0:00:01\n",
      "     ------------------------------------- -- 3.7/3.9 MB 11.8 MB/s eta 0:00:01\n",
      "     ---------------------------------------- 3.9/3.9 MB 10.8 MB/s eta 0:00:00\n",
      "Collecting PyQt5-sip<13,>=12.11\n",
      "  Downloading PyQt5_sip-12.11.1-cp39-cp39-win_amd64.whl (78 kB)\n",
      "     ---------------------------------------- 0.0/78.4 kB ? eta -:--:--\n",
      "     ---------------------------------------- 78.4/78.4 kB ? eta 0:00:00\n",
      "Collecting PyQt5-Qt5>=5.15.2\n",
      "  Downloading PyQt5_Qt5-5.15.2-py3-none-win_amd64.whl (50.1 MB)\n",
      "     ---------------------------------------- 0.0/50.1 MB ? eta -:--:--\n",
      "     ---------------------------------------- 0.4/50.1 MB 12.2 MB/s eta 0:00:05\n",
      "      --------------------------------------- 0.8/50.1 MB 12.7 MB/s eta 0:00:04\n",
      "     - -------------------------------------- 1.4/50.1 MB 11.1 MB/s eta 0:00:05\n",
      "     - -------------------------------------- 2.1/50.1 MB 11.9 MB/s eta 0:00:05\n",
      "     -- ------------------------------------- 2.6/50.1 MB 11.6 MB/s eta 0:00:05\n",
      "     -- ------------------------------------- 3.2/50.1 MB 12.0 MB/s eta 0:00:04\n",
      "     -- ------------------------------------- 3.7/50.1 MB 11.9 MB/s eta 0:00:04\n",
      "     --- ------------------------------------ 4.5/50.1 MB 12.5 MB/s eta 0:00:04\n",
      "     --- ------------------------------------ 4.9/50.1 MB 12.1 MB/s eta 0:00:04\n",
      "     ---- ----------------------------------- 5.6/50.1 MB 12.3 MB/s eta 0:00:04\n",
      "     ---- ----------------------------------- 6.1/50.1 MB 12.6 MB/s eta 0:00:04\n",
      "     ----- ---------------------------------- 6.5/50.1 MB 11.8 MB/s eta 0:00:04\n",
      "     ----- ---------------------------------- 7.0/50.1 MB 11.8 MB/s eta 0:00:04\n",
      "     ------ --------------------------------- 7.8/50.1 MB 12.1 MB/s eta 0:00:04\n",
      "     ------ --------------------------------- 8.4/50.1 MB 12.2 MB/s eta 0:00:04\n",
      "     ------- -------------------------------- 9.1/50.1 MB 12.3 MB/s eta 0:00:04\n",
      "     ------- -------------------------------- 9.9/50.1 MB 12.6 MB/s eta 0:00:04\n",
      "     -------- ------------------------------ 10.6/50.1 MB 12.8 MB/s eta 0:00:04\n",
      "     -------- ------------------------------ 11.4/50.1 MB 13.4 MB/s eta 0:00:03\n",
      "     --------- ----------------------------- 12.1/50.1 MB 13.6 MB/s eta 0:00:03\n",
      "     ---------- ---------------------------- 13.0/50.1 MB 13.9 MB/s eta 0:00:03\n",
      "     ---------- ---------------------------- 13.7/50.1 MB 14.2 MB/s eta 0:00:03\n",
      "     ----------- --------------------------- 14.6/50.1 MB 14.6 MB/s eta 0:00:03\n",
      "     ----------- --------------------------- 15.4/50.1 MB 15.2 MB/s eta 0:00:03\n",
      "     ------------ -------------------------- 16.2/50.1 MB 15.2 MB/s eta 0:00:03\n",
      "     ------------- ------------------------- 16.9/50.1 MB 16.4 MB/s eta 0:00:03\n",
      "     ------------- ------------------------- 17.6/50.1 MB 16.4 MB/s eta 0:00:02\n",
      "     -------------- ------------------------ 18.4/50.1 MB 16.4 MB/s eta 0:00:02\n",
      "     -------------- ------------------------ 19.0/50.1 MB 16.4 MB/s eta 0:00:02\n",
      "     --------------- ----------------------- 19.6/50.1 MB 16.4 MB/s eta 0:00:02\n",
      "     --------------- ----------------------- 20.3/50.1 MB 16.4 MB/s eta 0:00:02\n",
      "     ---------------- ---------------------- 21.1/50.1 MB 16.0 MB/s eta 0:00:02\n",
      "     ---------------- ---------------------- 21.8/50.1 MB 16.0 MB/s eta 0:00:02\n",
      "     ----------------- --------------------- 22.5/50.1 MB 16.0 MB/s eta 0:00:02\n",
      "     ----------------- --------------------- 23.1/50.1 MB 15.6 MB/s eta 0:00:02\n",
      "     ------------------ -------------------- 23.8/50.1 MB 15.6 MB/s eta 0:00:02\n",
      "     ------------------- ------------------- 24.5/50.1 MB 15.6 MB/s eta 0:00:02\n",
      "     ------------------- ------------------- 25.3/50.1 MB 15.2 MB/s eta 0:00:02\n",
      "     -------------------- ------------------ 26.0/50.1 MB 15.2 MB/s eta 0:00:02\n",
      "     -------------------- ------------------ 26.8/50.1 MB 15.2 MB/s eta 0:00:02\n",
      "     --------------------- ----------------- 27.5/50.1 MB 15.2 MB/s eta 0:00:02\n",
      "     --------------------- ----------------- 28.2/50.1 MB 15.2 MB/s eta 0:00:02\n",
      "     ---------------------- ---------------- 29.0/50.1 MB 14.9 MB/s eta 0:00:02\n",
      "     ----------------------- --------------- 29.7/50.1 MB 15.2 MB/s eta 0:00:02\n",
      "     ----------------------- --------------- 30.4/50.1 MB 15.2 MB/s eta 0:00:02\n",
      "     ------------------------ -------------- 31.1/50.1 MB 15.2 MB/s eta 0:00:02\n",
      "     ------------------------ -------------- 31.9/50.1 MB 15.6 MB/s eta 0:00:02\n",
      "     ------------------------- ------------- 32.7/50.1 MB 15.6 MB/s eta 0:00:02\n",
      "     -------------------------- ------------ 33.4/50.1 MB 16.0 MB/s eta 0:00:02\n",
      "     -------------------------- ------------ 34.1/50.1 MB 16.0 MB/s eta 0:00:02\n",
      "     --------------------------- ----------- 34.8/50.1 MB 15.2 MB/s eta 0:00:02\n",
      "     --------------------------- ----------- 35.3/50.1 MB 15.6 MB/s eta 0:00:01\n",
      "     ---------------------------- ---------- 36.1/50.1 MB 15.6 MB/s eta 0:00:01\n",
      "     ---------------------------- ---------- 36.6/50.1 MB 15.2 MB/s eta 0:00:01\n",
      "     ---------------------------- ---------- 37.2/50.1 MB 14.5 MB/s eta 0:00:01\n",
      "     ----------------------------- --------- 37.9/50.1 MB 14.9 MB/s eta 0:00:01\n",
      "     ------------------------------ -------- 38.6/50.1 MB 14.9 MB/s eta 0:00:01\n",
      "     ------------------------------ -------- 39.3/50.1 MB 14.9 MB/s eta 0:00:01\n",
      "     ------------------------------- ------- 40.0/50.1 MB 14.9 MB/s eta 0:00:01\n",
      "     ------------------------------- ------- 40.0/50.1 MB 14.9 MB/s eta 0:00:01\n",
      "     ------------------------------- ------- 40.3/50.1 MB 13.1 MB/s eta 0:00:01\n",
      "     ------------------------------- ------- 40.8/50.1 MB 13.1 MB/s eta 0:00:01\n",
      "     -------------------------------- ------ 41.6/50.1 MB 13.1 MB/s eta 0:00:01\n",
      "     --------------------------------- ----- 42.4/50.1 MB 13.4 MB/s eta 0:00:01\n",
      "     --------------------------------- ----- 43.2/50.1 MB 13.4 MB/s eta 0:00:01\n",
      "     ---------------------------------- ---- 43.8/50.1 MB 13.1 MB/s eta 0:00:01\n",
      "     ---------------------------------- ---- 44.5/50.1 MB 13.1 MB/s eta 0:00:01\n",
      "     ----------------------------------- --- 45.4/50.1 MB 13.4 MB/s eta 0:00:01\n",
      "     ----------------------------------- --- 46.1/50.1 MB 13.4 MB/s eta 0:00:01\n",
      "     ------------------------------------ -- 46.9/50.1 MB 13.9 MB/s eta 0:00:01\n",
      "     ------------------------------------- - 47.8/50.1 MB 13.9 MB/s eta 0:00:01\n",
      "     ------------------------------------- - 48.5/50.1 MB 14.2 MB/s eta 0:00:01\n",
      "     --------------------------------------  49.1/50.1 MB 13.9 MB/s eta 0:00:01\n",
      "     --------------------------------------  49.7/50.1 MB 13.9 MB/s eta 0:00:01\n",
      "     --------------------------------------  49.9/50.1 MB 13.1 MB/s eta 0:00:01\n",
      "     --------------------------------------  50.1/50.1 MB 12.8 MB/s eta 0:00:01\n",
      "     --------------------------------------  50.1/50.1 MB 12.8 MB/s eta 0:00:01\n",
      "     --------------------------------------  50.1/50.1 MB 12.8 MB/s eta 0:00:01\n",
      "     ---------------------------------------- 50.1/50.1 MB 8.8 MB/s eta 0:00:00\n",
      "Installing collected packages: PyQt5-Qt5, PyQt5-sip, lxml, pyqt5\n",
      "Successfully installed PyQt5-Qt5-5.15.2 PyQt5-sip-12.11.1 lxml-4.9.2 pyqt5-5.15.9\n"
     ]
    }
   ],
   "source": [
    "!pip install --upgrade pyqt5 lxml"
   ]
  },
  {
   "cell_type": "code",
   "execution_count": 16,
   "metadata": {},
   "outputs": [],
   "source": [
    "LABELIMG_PATH = os.path.join('Tensorflow', 'labelimg')"
   ]
  },
  {
   "cell_type": "code",
   "execution_count": 17,
   "metadata": {},
   "outputs": [
    {
     "name": "stderr",
     "output_type": "stream",
     "text": [
      "Cloning into 'Tensorflow\\labelimg'...\n"
     ]
    }
   ],
   "source": [
    "if not os.path.exists(LABELIMG_PATH):\n",
    "    !mkdir {LABELIMG_PATH}\n",
    "    !git clone https://github.com/tzutalin/labelImg {LABELIMG_PATH}"
   ]
  },
  {
   "cell_type": "code",
   "execution_count": null,
   "metadata": {},
   "outputs": [],
   "source": [
    "if os.name == 'posix':\n",
    "    !cd {LABELIMG_PATH} && make qt5py3\n",
    "if os.name =='nt':\n",
    "    !cd {LABELIMG_PATH}pyrcc5 -o libs/resources.py resources.qrc"
   ]
  },
  {
   "cell_type": "code",
   "execution_count": null,
   "metadata": {},
   "outputs": [],
   "source": [
    "!cd {LABELIMG_PATH} && python labelImg.py"
   ]
  },
  {
   "cell_type": "markdown",
   "metadata": {},
   "source": [
    "# 6. Move them into a Training and Testing Partition"
   ]
  },
  {
   "cell_type": "markdown",
   "metadata": {},
   "source": [
    "# OPTIONAL - 7. Compress them for Colab Training"
   ]
  },
  {
   "cell_type": "code",
   "execution_count": 20,
   "metadata": {},
   "outputs": [],
   "source": [
    "TRAIN_PATH = os.path.join('Tensorflow', 'workspace', 'images', 'train')\n",
    "TEST_PATH = os.path.join('Tensorflow', 'workspace', 'images', 'test')\n",
    "ARCHIVE_PATH = os.path.join('Tensorflow', 'workspace', 'images', 'archive.tar.gz')"
   ]
  },
  {
   "cell_type": "code",
   "execution_count": 21,
   "metadata": {},
   "outputs": [],
   "source": [
    "!tar -czf {ARCHIVE_PATH} {TRAIN_PATH} {TEST_PATH}"
   ]
  },
  {
   "cell_type": "markdown",
   "metadata": {},
   "source": [
    "# 0. Setup Paths"
   ]
  },
  {
   "cell_type": "code",
   "execution_count": null,
   "metadata": {},
   "outputs": [],
   "source": [
    "import os"
   ]
  },
  {
   "cell_type": "code",
   "execution_count": null,
   "metadata": {},
   "outputs": [],
   "source": [
    "CUSTOM_MODEL_NAME = 'my_ssd_mobnet' \n",
    "PRETRAINED_MODEL_NAME = 'ssd_mobilenet_v2_fpnlite_320x320_coco17_tpu-8'\n",
    "PRETRAINED_MODEL_URL = 'http://download.tensorflow.org/models/object_detection/tf2/20200711/ssd_mobilenet_v2_fpnlite_320x320_coco17_tpu-8.tar.gz'\n",
    "TF_RECORD_SCRIPT_NAME = 'generate_tfrecord.py'\n",
    "LABEL_MAP_NAME = 'label_map.pbtxt'"
   ]
  },
  {
   "cell_type": "code",
   "execution_count": null,
   "metadata": {},
   "outputs": [],
   "source": [
    "!pip uninstall protobuf matplotlib -y\n",
    "!pip install protobuf matplotlib"
   ]
  },
  {
   "cell_type": "code",
   "execution_count": null,
   "metadata": {},
   "outputs": [],
   "source": []
  }
 ],
 "metadata": {
  "kernelspec": {
   "display_name": "tfod",
   "language": "python",
   "name": "tfod"
  },
  "language_info": {
   "codemirror_mode": {
    "name": "ipython",
    "version": 3
   },
   "file_extension": ".py",
   "mimetype": "text/x-python",
   "name": "python",
   "nbconvert_exporter": "python",
   "pygments_lexer": "ipython3",
   "version": "3.9.13"
  }
 },
 "nbformat": 4,
 "nbformat_minor": 2
}
